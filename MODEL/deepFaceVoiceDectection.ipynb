{
  "nbformat": 4,
  "nbformat_minor": 0,
  "metadata": {
    "colab": {
      "provenance": [],
      "gpuType": "T4"
    },
    "kernelspec": {
      "name": "python3",
      "display_name": "Python 3"
    },
    "language_info": {
      "name": "python"
    },
    "accelerator": "GPU"
  },
  "cells": [
    {
      "cell_type": "code",
      "source": [
        "!unzip /content/DATA.zip -d ."
      ],
      "metadata": {
        "id": "DoFtPXLb2u32"
      },
      "execution_count": null,
      "outputs": []
    },
    {
      "cell_type": "code",
      "source": [
        "from tensorflow.keras import layers\n",
        "import tensorflow as tf\n",
        "from tensorflow.keras import Model\n",
        "import cv2\n",
        "from glob import glob\n",
        "import random\n",
        "import numpy as np\n"
      ],
      "metadata": {
        "id": "rO3JwepTtkBI"
      },
      "execution_count": 2,
      "outputs": []
    },
    {
      "cell_type": "code",
      "source": [
        "class DATALoader(tf.keras.utils.Sequence):\n",
        "  def __init__(self):\n",
        "    super()\n",
        "    self.paths = []\n",
        "    self.BatchSize = 20\n",
        "    for path in glob(\"./Spectrogram/FAKE/*.png\"):\n",
        "      self.paths.append([path,1])\n",
        "    for path in glob(\"./Spectrogram/REAL/*.png\"):\n",
        "      self.paths.append([path,0])\n",
        "    random.shuffle(self.paths)\n",
        "  def __len__(self):\n",
        "    return len(self.paths)\n",
        "  def image_load(self,path):\n",
        "    return cv2.resize(cv2.imread(path),(256,256))/255\n",
        "  def __getitem__(self,index):\n",
        "    index = index%4\n",
        "    x,y = [],[]\n",
        "    for pathLabel in self.paths[index*self.BatchSize:(index+1)*self.BatchSize]:\n",
        "      x.append(self.image_load(pathLabel[0]))\n",
        "      y.append(pathLabel[1])\n",
        "    return np.array(x),np.array(y)"
      ],
      "metadata": {
        "id": "YFgvuTazvgl8"
      },
      "execution_count": 18,
      "outputs": []
    },
    {
      "cell_type": "code",
      "source": [
        "dataLoader = DATALoader()"
      ],
      "metadata": {
        "id": "t69hkmXiydqB"
      },
      "execution_count": 19,
      "outputs": []
    },
    {
      "cell_type": "markdown",
      "source": [
        "## MODEL"
      ],
      "metadata": {
        "id": "lr2c3aNN0jko"
      }
    },
    {
      "cell_type": "code",
      "source": [
        "input_layer = layers.Input((256,256,3),name=\"input_layer\")\n",
        "x = layers.Conv2D(32,3,activation='relu',name=\"conv1\")(input_layer)\n",
        "x = layers.MaxPooling2D(name=\"max_pool1\")(x)\n",
        "x = layers.Conv2D(64,3,activation='relu',name=\"conv2\")(x)\n",
        "x = layers.MaxPooling2D(name=\"max_pool2\")(x)\n",
        "x = layers.Flatten()(x)\n",
        "x = layers.Dense(30,activation='relu')(x)\n",
        "x = layers.Dense(10,activation='relu')(x)\n",
        "x = layers.Dense(1,activation='sigmoid')(x)"
      ],
      "metadata": {
        "id": "Dd1AtI9Z0ec9"
      },
      "execution_count": 45,
      "outputs": []
    },
    {
      "cell_type": "code",
      "source": [
        "model = Model(input_layer,x)"
      ],
      "metadata": {
        "id": "wb5S_Lb60utW"
      },
      "execution_count": 46,
      "outputs": []
    },
    {
      "cell_type": "code",
      "source": [
        "model.summary()"
      ],
      "metadata": {
        "colab": {
          "base_uri": "https://localhost:8080/"
        },
        "id": "GWa3YTSF1ybH",
        "outputId": "61b0ceee-09a6-47d5-a111-efcd9c492634"
      },
      "execution_count": 47,
      "outputs": [
        {
          "output_type": "stream",
          "name": "stdout",
          "text": [
            "Model: \"model_6\"\n",
            "_________________________________________________________________\n",
            " Layer (type)                Output Shape              Param #   \n",
            "=================================================================\n",
            " input_layer (InputLayer)    [(None, 256, 256, 3)]     0         \n",
            "                                                                 \n",
            " conv1 (Conv2D)              (None, 254, 254, 32)      896       \n",
            "                                                                 \n",
            " max_pool1 (MaxPooling2D)    (None, 127, 127, 32)      0         \n",
            "                                                                 \n",
            " conv2 (Conv2D)              (None, 125, 125, 64)      18496     \n",
            "                                                                 \n",
            " max_pool2 (MaxPooling2D)    (None, 62, 62, 64)        0         \n",
            "                                                                 \n",
            " flatten_6 (Flatten)         (None, 246016)            0         \n",
            "                                                                 \n",
            " dense_18 (Dense)            (None, 30)                7380510   \n",
            "                                                                 \n",
            " dense_19 (Dense)            (None, 10)                310       \n",
            "                                                                 \n",
            " dense_20 (Dense)            (None, 1)                 11        \n",
            "                                                                 \n",
            "=================================================================\n",
            "Total params: 7400223 (28.23 MB)\n",
            "Trainable params: 7400223 (28.23 MB)\n",
            "Non-trainable params: 0 (0.00 Byte)\n",
            "_________________________________________________________________\n"
          ]
        }
      ]
    },
    {
      "cell_type": "code",
      "source": [
        "model.compile(loss='binary_crossentropy', optimizer='adam', metrics=['accuracy'])"
      ],
      "metadata": {
        "id": "M-cWU9Mu10Fb"
      },
      "execution_count": 48,
      "outputs": []
    },
    {
      "cell_type": "code",
      "source": [
        "model.fit(dataLoader, epochs=2,batch_size=4,verbose=1)"
      ],
      "metadata": {
        "colab": {
          "base_uri": "https://localhost:8080/"
        },
        "id": "H9kDNUHH2L4Z",
        "outputId": "99c8036c-8d6e-4548-d83e-60a68cc8593b"
      },
      "execution_count": 49,
      "outputs": [
        {
          "output_type": "stream",
          "name": "stdout",
          "text": [
            "Epoch 1/2\n",
            "80/80 [==============================] - 26s 300ms/step - loss: 0.1868 - accuracy: 0.9419\n",
            "Epoch 2/2\n",
            "80/80 [==============================] - 27s 340ms/step - loss: 3.4664e-08 - accuracy: 1.0000\n"
          ]
        },
        {
          "output_type": "execute_result",
          "data": {
            "text/plain": [
              "<keras.src.callbacks.History at 0x7d39c3d5e800>"
            ]
          },
          "metadata": {},
          "execution_count": 49
        }
      ]
    },
    {
      "cell_type": "code",
      "source": [
        "img = np.array([cv2.resize(cv2.imread(\"./Spectrogram/REAL/030f89ef-1685-4d4e-81b2-6f843b615ef7.png\"),(256,256))])\n"
      ],
      "metadata": {
        "id": "1Ir9n8fZ9XN5"
      },
      "execution_count": 57,
      "outputs": []
    },
    {
      "cell_type": "code",
      "source": [
        "model.predict(img)"
      ],
      "metadata": {
        "colab": {
          "base_uri": "https://localhost:8080/"
        },
        "id": "Qg-b3__s9qsM",
        "outputId": "4a07db4d-62f0-4fae-f8e9-e7d251bf30d1"
      },
      "execution_count": 58,
      "outputs": [
        {
          "output_type": "stream",
          "name": "stdout",
          "text": [
            "1/1 [==============================] - 0s 19ms/step\n"
          ]
        },
        {
          "output_type": "execute_result",
          "data": {
            "text/plain": [
              "array([[0.]], dtype=float32)"
            ]
          },
          "metadata": {},
          "execution_count": 58
        }
      ]
    },
    {
      "cell_type": "code",
      "source": [
        "model.save(\"model.h5\")"
      ],
      "metadata": {
        "colab": {
          "base_uri": "https://localhost:8080/"
        },
        "id": "VlW49kv48MSB",
        "outputId": "6b312944-ea04-4112-8597-c8b18436c4a9"
      },
      "execution_count": 59,
      "outputs": [
        {
          "output_type": "stream",
          "name": "stderr",
          "text": [
            "/usr/local/lib/python3.10/dist-packages/keras/src/engine/training.py:3000: UserWarning: You are saving your model as an HDF5 file via `model.save()`. This file format is considered legacy. We recommend using instead the native Keras format, e.g. `model.save('my_model.keras')`.\n",
            "  saving_api.save_model(\n"
          ]
        }
      ]
    },
    {
      "cell_type": "code",
      "source": [],
      "metadata": {
        "id": "p4rn544d-GGe"
      },
      "execution_count": null,
      "outputs": []
    }
  ]
}